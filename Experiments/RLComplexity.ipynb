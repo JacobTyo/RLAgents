{
 "cells": [
  {
   "cell_type": "code",
   "execution_count": 1,
   "metadata": {},
   "outputs": [],
   "source": [
    "# ML imports\n",
    "import torch\n",
    "from torch import optim, cuda\n",
    "from torchvision import models\n",
    "import torch.nn as nn\n",
    "from torchsummary import summary\n",
    "import gym\n",
    "\n",
    "from torch.autograd import Variable\n",
    "from torchvision.utils import save_image\n",
    "from torchvision import transforms\n",
    "\n",
    "\n",
    "# normal tools\n",
    "import numpy as np\n",
    "import json\n",
    "from PIL import Image \n",
    "\n",
    "# Timing utility\n",
    "from timeit import default_timer as timer\n",
    "\n",
    "# Visualizers\n",
    "import matplotlib.pyplot as plt\n",
    "import matplotlib.image as mpimg\n",
    "%matplotlib inline\n",
    "plt.rcParams['font.size'] = 14\n",
    "import seaborn as sns"
   ]
  },
  {
   "cell_type": "code",
   "execution_count": 2,
   "metadata": {
    "collapsed": true
   },
   "outputs": [
    {
     "name": "stdout",
     "output_type": "stream",
     "text": [
      "Train on gpu: True\n1\nThe first gym is Solaris-v4\n"
     ]
    }
   ],
   "source": [
    "# get the selected environments\n",
    "with open('selected_envs.json', 'r') as f:\n",
    "    selected_envs = json.load(f)\n",
    "\n",
    "# set some hyperparameters\n",
    "batch_size = 1\n",
    "\n",
    "# Whether to train on a GPU\n",
    "train_on_gpu = cuda.is_available()\n",
    "print(f'Train on gpu: {train_on_gpu}')\n",
    "gpu_count = cuda.device_count()\n",
    "print(gpu_count)\n",
    "\n",
    "first_gym = selected_envs[\"training\"][0]\n",
    "print(f'The first gym is {first_gym}')"
   ]
  },
  {
   "cell_type": "code",
   "execution_count": 3,
   "metadata": {},
   "outputs": [
    {
     "name": "stderr",
     "output_type": "stream",
     "text": [
      "/home/jtyo/Apps/anaconda3/envs/RLAgents/lib/python3.6/site-packages/gym/envs/registration.py:14: PkgResourcesDeprecationWarning: Parameters to load are deprecated.  Call .resolve and .require separately.\n  result = entry_point.load(False)\n"
     ]
    },
    {
     "name": "stdout",
     "output_type": "stream",
     "text": [
      "The original observation from the Solaris-v4 Open AI Gym:\n"
     ]
    },
    {
     "data": {
      "image/png": "[encoded data removed]",
      "text/plain": [
       "<Figure size 432x288 with 1 Axes>"
      ]
     },
     "metadata": {},
     "output_type": "display_data"
    }
   ],
   "source": [
    "# Visualize original data, and determine what it will look like after preprocessing \n",
    "env = gym.make(first_gym)\n",
    "observation = env.reset()\n",
    "\n",
    "print(\"The original observation from the Solaris-v4 Open AI Gym:\")\n",
    "imgplot = plt.imshow(observation)\n"
   ]
  },
  {
   "cell_type": "code",
   "execution_count": 4,
   "metadata": {},
   "outputs": [
    {
     "name": "stdout",
     "output_type": "stream",
     "text": [
      "The observation after greyscale conversion\n"
     ]
    },
    {
     "data": {
      "image/png": "[encoded data removed]",
      "text/plain": [
       "<Figure size 432x288 with 1 Axes>"
      ]
     },
     "metadata": {},
     "output_type": "display_data"
    }
   ],
   "source": [
    "# convert image to grayscale \n",
    "bw_obs = Image.fromarray(observation).convert('L')\n",
    "print(\"The observation after greyscale conversion\")\n",
    "greyscale_plot = plt.imshow(bw_obs)"
   ]
  },
  {
   "cell_type": "code",
   "execution_count": 5,
   "metadata": {},
   "outputs": [
    {
     "name": "stdout",
     "output_type": "stream",
     "text": [
      "Observation after resizing to 114x150\n"
     ]
    },
    {
     "data": {
      "image/png": "[encoded data removed]",
      "text/plain": [
       "<Figure size 432x288 with 1 Axes>"
      ]
     },
     "metadata": {},
     "output_type": "display_data"
    }
   ],
   "source": [
    "# resize image\n",
    "new_width = 150\n",
    "new_height = 114\n",
    "new_size = new_height, new_width\n",
    "bw_obs.thumbnail(new_size, Image.ANTIALIAS)\n",
    "\n",
    "tmp = np.array(bw_obs)\n",
    "tmp = np.append(tmp, tmp[-1].reshape(1, tmp[-1].shape[0]), axis=0)\n",
    "bw_obs = Image.fromarray(tmp)\n",
    "\n",
    "print(f'Observation after resizing to {new_height}x{new_width}')\n",
    "resized_obs = plt.imshow(bw_obs)\n",
    "\n",
    "# method for later use:\n",
    "def preprocess_obs(observation):\n",
    "    bw_obs = Image.fromarray(observation).convert('L')\n",
    "    new_width = 150\n",
    "    new_height = 114\n",
    "    new_size = new_height, new_width\n",
    "    bw_obs.thumbnail(new_size, Image.ANTIALIAS)\n",
    "    tmp = np.array(bw_obs)\n",
    "    tmp = np.append(tmp, tmp[-1].reshape(1, tmp[-1].shape[0]), axis=0)\n",
    "    bw_obs = Image.fromarray(tmp)\n",
    "    return bw_obs\n"
   ]
  },
  {
   "cell_type": "code",
   "execution_count": 6,
   "metadata": {},
   "outputs": [
    {
     "name": "stdout",
     "output_type": "stream",
     "text": [
      "(114, 150)\n"
     ]
    },
    {
     "data": {
      "text/plain": [
       "AtariCNN(\n  (encoder): Sequential(\n    (0): Conv2d(1, 16, kernel_size=(3, 3), stride=(3, 3), padding=(1, 1))\n    (1): ReLU(inplace)\n    (2): MaxPool2d(kernel_size=2, stride=2, padding=0, dilation=1, ceil_mode=False)\n    (3): Conv2d(16, 8, kernel_size=(3, 3), stride=(3, 3), padding=(1, 1))\n    (4): ReLU(inplace)\n    (5): MaxPool2d(kernel_size=2, stride=1, padding=0, dilation=1, ceil_mode=False)\n  )\n  (decoder): Sequential(\n    (0): ConvTranspose2d(8, 16, kernel_size=(3, 3), stride=(2, 2))\n    (1): ReLU(inplace)\n    (2): ConvTranspose2d(16, 8, kernel_size=(5, 5), stride=(3, 3), padding=(1, 1))\n    (3): ReLU(inplace)\n    (4): ConvTranspose2d(8, 1, kernel_size=(2, 2), stride=(3, 3), padding=(1, 1))\n    (5): Tanh()\n  )\n)"
      ]
     },
     "execution_count": 6,
     "metadata": {},
     "output_type": "execute_result"
    }
   ],
   "source": [
    "# build a model \n",
    "\n",
    "input_size = bw_obs.size\n",
    "print(input_size)\n",
    "\n",
    "# However, we will downscale the atari screen to simplify things\n",
    "\n",
    "class AtariCNN(nn.Module):\n",
    "    def __init__(self):\n",
    "        super(AtariCNN, self).__init__()\n",
    "        self.encoder = nn.Sequential(\n",
    "            nn.Conv2d(1, 16, 3, stride=3, padding=1),  # b, 16, 10, 10\n",
    "            nn.ReLU(True),\n",
    "            nn.MaxPool2d(2, stride=2),  # b, 16, 5, 5\n",
    "            nn.Conv2d(16, 8, 3, stride=3, padding=1),  # b, 8, 3, 3\n",
    "            nn.ReLU(True),\n",
    "            nn.MaxPool2d(2, stride=1),  # b, 8, 2, 2\n",
    "            # nn.Conv2d(8, 1, 3, stride=3, padding=1),  # b, 8, 3, 3\n",
    "            # nn.ReLU(True),\n",
    "            # nn.MaxPool2d(2, stride=1)\n",
    "        )\n",
    "        self.decoder = nn.Sequential(\n",
    "            # nn.ConvTranspose2d(1, 8, 3, stride = 3),\n",
    "            # nn.ReLU(True),\n",
    "            nn.ConvTranspose2d(8, 16, 3, stride=2),  # b, 16, 5, 5\n",
    "            nn.ReLU(True),\n",
    "            nn.ConvTranspose2d(16, 8, 5, stride=3, padding=1),  # b, 8, 15, 15\n",
    "            nn.ReLU(True),\n",
    "            nn.ConvTranspose2d(8, 1, 2, stride=3, padding=1),  # b, 1, 28, 28\n",
    "            nn.Tanh()\n",
    "        )\n",
    "\n",
    "    def forward(self, x):\n",
    "        x = self.encoder(x)\n",
    "        x = self.decoder(x)\n",
    "        return x\n",
    "\n",
    "\n",
    "# learning_rate = 1e-3\n",
    "model = AtariCNN().cuda() \n",
    "# criterion = nn.MSELoss()\n",
    "# optimizer = torch.optim.Adam(model.parameters(), lr=learning_rate, weight_decay=1e-5)\n",
    "\n",
    "model "
   ]
  },
  {
   "cell_type": "code",
   "execution_count": 7,
   "metadata": {},
   "outputs": [],
   "source": [
    "# Prepare transforms \n",
    "trans_to_tensor = transforms.ToTensor()\n",
    "trans_to_img = transforms.ToPILImage(mode='L')\n",
    "\n",
    "# tests\n",
    "# print(bw_obs.size)\n",
    "# \n",
    "# tens_obs = trans_to_tensor(bw_obs)\n",
    "# \n",
    "# print(tens_obs.size())\n",
    "# \n",
    "# did_work = trans_to_img(tens_obs)\n",
    "# \n",
    "# test_obs = plt.imshow(did_work)\n",
    "\n",
    "# obs = trans_to_tensor(bw_obs)\n",
    "# \n",
    "# obs = obs.unsqueeze(0)\n",
    "# \n",
    "# input = Variable(obs).cuda()\n",
    "# \n",
    "# print(input.size())"
   ]
  },
  {
   "cell_type": "code",
   "execution_count": 8,
   "metadata": {},
   "outputs": [
    {
     "name": "stdout",
     "output_type": "stream",
     "text": [
      "----------------------------------------------------------------\n        Layer (type)               Output Shape         Param #\n================================================================\n            Conv2d-1            [1, 16, 52, 40]             160\n              ReLU-2            [1, 16, 52, 40]               0\n         MaxPool2d-3            [1, 16, 26, 20]               0\n            Conv2d-4               [1, 8, 9, 7]           1,160\n              ReLU-5               [1, 8, 9, 7]               0\n         MaxPool2d-6               [1, 8, 8, 6]               0\n   ConvTranspose2d-7            [1, 16, 17, 13]           1,168\n              ReLU-8            [1, 16, 17, 13]               0\n   ConvTranspose2d-9             [1, 8, 51, 39]           3,208\n             ReLU-10             [1, 8, 51, 39]               0\n  ConvTranspose2d-11           [1, 1, 150, 114]              33\n             Tanh-12           [1, 1, 150, 114]               0\n================================================================\nTotal params: 5,729\nTrainable params: 5,729\nNon-trainable params: 0\n----------------------------------------------------------------\nInput size (MB): 0.07\nForward/backward pass size (MB): 1.14\nParams size (MB): 0.02\nEstimated Total Size (MB): 1.23\n----------------------------------------------------------------\n"
     ]
    }
   ],
   "source": [
    "summary(model, input_size=(1, 154, 118), batch_size=batch_size, device='cuda')\n",
    "\n",
    "def to_img(x):\n",
    "    x = 0.5 * (x + 1)\n",
    "    x = x.clamp(0, 1)\n",
    "    x = x.view(x.size(0), 1, 28, 28)\n",
    "    return x"
   ]
  },
  {
   "cell_type": "code",
   "execution_count": 17,
   "metadata": {
    "collapsed": true
   },
   "outputs": [],
   "source": [
    "learning_rate = 1e-3\n",
    "criterion = nn.MSELoss()\n",
    "optimizer = torch.optim.Adam(model.parameters(), lr=learning_rate, weight_decay=1e-5)\n",
    "num_epochs = 20\n",
    "done = False\n"
   ]
  },
  {
   "cell_type": "code",
   "execution_count": 21,
   "metadata": {},
   "outputs": [
    {
     "name": "stderr",
     "output_type": "stream",
     "text": [
      "/home/jtyo/Apps/anaconda3/envs/RLAgents/lib/python3.6/site-packages/ipykernel_launcher.py:21: UserWarning: invalid index of a 0-dim tensor. This will be an error in PyTorch 0.5. Use tensor.item() to convert a 0-dim tensor to a Python number\n/home/jtyo/Apps/anaconda3/envs/RLAgents/lib/python3.6/site-packages/ipykernel_launcher.py:21: UserWarning: invalid index of a 0-dim tensor. This will be an error in PyTorch 0.5. Use tensor.item() to convert a 0-dim tensor to a Python number\n"
     ]
    },
    {
     "name": "stdout",
     "output_type": "stream",
     "text": [
      "epoch [1/20], loss:0.0132\nepoch [2/20], loss:0.0132\n"
     ]
    },
    {
     "name": "stderr",
     "output_type": "stream",
     "text": [
      "/home/jtyo/Apps/anaconda3/envs/RLAgents/lib/python3.6/site-packages/ipykernel_launcher.py:21: UserWarning: invalid index of a 0-dim tensor. This will be an error in PyTorch 0.5. Use tensor.item() to convert a 0-dim tensor to a Python number\n/home/jtyo/Apps/anaconda3/envs/RLAgents/lib/python3.6/site-packages/ipykernel_launcher.py:21: UserWarning: invalid index of a 0-dim tensor. This will be an error in PyTorch 0.5. Use tensor.item() to convert a 0-dim tensor to a Python number\n"
     ]
    },
    {
     "name": "stdout",
     "output_type": "stream",
     "text": [
      "epoch [3/20], loss:0.0132\nepoch [4/20], loss:0.0132\n"
     ]
    },
    {
     "name": "stderr",
     "output_type": "stream",
     "text": [
      "/home/jtyo/Apps/anaconda3/envs/RLAgents/lib/python3.6/site-packages/ipykernel_launcher.py:21: UserWarning: invalid index of a 0-dim tensor. This will be an error in PyTorch 0.5. Use tensor.item() to convert a 0-dim tensor to a Python number\n/home/jtyo/Apps/anaconda3/envs/RLAgents/lib/python3.6/site-packages/ipykernel_launcher.py:21: UserWarning: invalid index of a 0-dim tensor. This will be an error in PyTorch 0.5. Use tensor.item() to convert a 0-dim tensor to a Python number\n"
     ]
    },
    {
     "name": "stdout",
     "output_type": "stream",
     "text": [
      "epoch [5/20], loss:0.0132\nepoch [6/20], loss:0.0132\n"
     ]
    },
    {
     "name": "stderr",
     "output_type": "stream",
     "text": [
      "/home/jtyo/Apps/anaconda3/envs/RLAgents/lib/python3.6/site-packages/ipykernel_launcher.py:21: UserWarning: invalid index of a 0-dim tensor. This will be an error in PyTorch 0.5. Use tensor.item() to convert a 0-dim tensor to a Python number\n/home/jtyo/Apps/anaconda3/envs/RLAgents/lib/python3.6/site-packages/ipykernel_launcher.py:21: UserWarning: invalid index of a 0-dim tensor. This will be an error in PyTorch 0.5. Use tensor.item() to convert a 0-dim tensor to a Python number\n"
     ]
    },
    {
     "name": "stdout",
     "output_type": "stream",
     "text": [
      "epoch [7/20], loss:0.0132\nepoch [8/20], loss:0.0132\n"
     ]
    },
    {
     "name": "stderr",
     "output_type": "stream",
     "text": [
      "/home/jtyo/Apps/anaconda3/envs/RLAgents/lib/python3.6/site-packages/ipykernel_launcher.py:21: UserWarning: invalid index of a 0-dim tensor. This will be an error in PyTorch 0.5. Use tensor.item() to convert a 0-dim tensor to a Python number\n/home/jtyo/Apps/anaconda3/envs/RLAgents/lib/python3.6/site-packages/ipykernel_launcher.py:21: UserWarning: invalid index of a 0-dim tensor. This will be an error in PyTorch 0.5. Use tensor.item() to convert a 0-dim tensor to a Python number\n"
     ]
    },
    {
     "name": "stdout",
     "output_type": "stream",
     "text": [
      "epoch [9/20], loss:0.0132\nepoch [10/20], loss:0.0132\n"
     ]
    },
    {
     "name": "stderr",
     "output_type": "stream",
     "text": [
      "/home/jtyo/Apps/anaconda3/envs/RLAgents/lib/python3.6/site-packages/ipykernel_launcher.py:21: UserWarning: invalid index of a 0-dim tensor. This will be an error in PyTorch 0.5. Use tensor.item() to convert a 0-dim tensor to a Python number\n/home/jtyo/Apps/anaconda3/envs/RLAgents/lib/python3.6/site-packages/ipykernel_launcher.py:21: UserWarning: invalid index of a 0-dim tensor. This will be an error in PyTorch 0.5. Use tensor.item() to convert a 0-dim tensor to a Python number\n"
     ]
    },
    {
     "name": "stdout",
     "output_type": "stream",
     "text": [
      "epoch [11/20], loss:0.0132\nepoch [12/20], loss:0.0132\n"
     ]
    },
    {
     "name": "stderr",
     "output_type": "stream",
     "text": [
      "/home/jtyo/Apps/anaconda3/envs/RLAgents/lib/python3.6/site-packages/ipykernel_launcher.py:21: UserWarning: invalid index of a 0-dim tensor. This will be an error in PyTorch 0.5. Use tensor.item() to convert a 0-dim tensor to a Python number\n/home/jtyo/Apps/anaconda3/envs/RLAgents/lib/python3.6/site-packages/ipykernel_launcher.py:21: UserWarning: invalid index of a 0-dim tensor. This will be an error in PyTorch 0.5. Use tensor.item() to convert a 0-dim tensor to a Python number\n"
     ]
    },
    {
     "name": "stdout",
     "output_type": "stream",
     "text": [
      "epoch [13/20], loss:0.0132\nepoch [14/20], loss:0.0132\n"
     ]
    },
    {
     "name": "stderr",
     "output_type": "stream",
     "text": [
      "/home/jtyo/Apps/anaconda3/envs/RLAgents/lib/python3.6/site-packages/ipykernel_launcher.py:21: UserWarning: invalid index of a 0-dim tensor. This will be an error in PyTorch 0.5. Use tensor.item() to convert a 0-dim tensor to a Python number\n/home/jtyo/Apps/anaconda3/envs/RLAgents/lib/python3.6/site-packages/ipykernel_launcher.py:21: UserWarning: invalid index of a 0-dim tensor. This will be an error in PyTorch 0.5. Use tensor.item() to convert a 0-dim tensor to a Python number\n"
     ]
    },
    {
     "name": "stdout",
     "output_type": "stream",
     "text": [
      "epoch [15/20], loss:0.0132\nepoch [16/20], loss:0.0132\n"
     ]
    },
    {
     "name": "stderr",
     "output_type": "stream",
     "text": [
      "/home/jtyo/Apps/anaconda3/envs/RLAgents/lib/python3.6/site-packages/ipykernel_launcher.py:21: UserWarning: invalid index of a 0-dim tensor. This will be an error in PyTorch 0.5. Use tensor.item() to convert a 0-dim tensor to a Python number\n/home/jtyo/Apps/anaconda3/envs/RLAgents/lib/python3.6/site-packages/ipykernel_launcher.py:21: UserWarning: invalid index of a 0-dim tensor. This will be an error in PyTorch 0.5. Use tensor.item() to convert a 0-dim tensor to a Python number\n"
     ]
    },
    {
     "name": "stdout",
     "output_type": "stream",
     "text": [
      "epoch [17/20], loss:0.0132\nepoch [18/20], loss:0.0132\n"
     ]
    },
    {
     "name": "stdout",
     "output_type": "stream",
     "text": [
      "epoch [19/20], loss:0.0132\nepoch [20/20], loss:0.0132\n"
     ]
    },
    {
     "name": "stderr",
     "output_type": "stream",
     "text": [
      "/home/jtyo/Apps/anaconda3/envs/RLAgents/lib/python3.6/site-packages/ipykernel_launcher.py:21: UserWarning: invalid index of a 0-dim tensor. This will be an error in PyTorch 0.5. Use tensor.item() to convert a 0-dim tensor to a Python number\n/home/jtyo/Apps/anaconda3/envs/RLAgents/lib/python3.6/site-packages/ipykernel_launcher.py:21: UserWarning: invalid index of a 0-dim tensor. This will be an error in PyTorch 0.5. Use tensor.item() to convert a 0-dim tensor to a Python number\n"
     ]
    }
   ],
   "source": [
    "for epoch in range(num_epochs):\n",
    "    env = gym.make(first_gym)\n",
    "    observation = env.reset()\n",
    "    while not done:\n",
    "        observation, reward, done, info = env.step(env.action_space.sample())\n",
    "        # observation is the new data\n",
    "        observation = preprocess_obs(observation)\n",
    "        obs = trans_to_tensor(observation)\n",
    "        obs = obs.unsqueeze(0)\n",
    "        \n",
    "        input = Variable(obs).cuda() \n",
    "        # forward pass \n",
    "        output = model(input)\n",
    "        loss = criterion(output, input)\n",
    "        # backward pass\n",
    "        optimizer.zero_grad()\n",
    "        loss.backward()\n",
    "        optimizer.step()\n",
    "    \n",
    "    print('epoch [{}/{}], loss:{:.4f}'\n",
    "          .format(epoch+1, num_epochs, loss.data[0]))\n",
    "    if epoch % 10 == 0:\n",
    "        tmp = output.cpu().data\n",
    "        pic = tmp.squeeze(0)\n",
    "        # pic = trans_to_img(output.cpu().data)\n",
    "        save_image(pic, './image_{}.png'.format(epoch))"
   ]
  },
  {
   "cell_type": "code",
   "execution_count": 62,
   "metadata": {},
   "outputs": [],
   "source": [
    ""
   ]
  },
  {
   "cell_type": "code",
   "execution_count": 62,
   "metadata": {},
   "outputs": [],
   "source": [
    ""
   ]
  },
  {
   "cell_type": "code",
   "execution_count": 62,
   "metadata": {},
   "outputs": [],
   "source": [
    ""
   ]
  },
  {
   "cell_type": "code",
   "execution_count": 62,
   "metadata": {},
   "outputs": [],
   "source": [
    ""
   ]
  },
  {
   "cell_type": "code",
   "execution_count": 62,
   "metadata": {},
   "outputs": [],
   "source": [
    ""
   ]
  },
  {
   "cell_type": "code",
   "execution_count": 62,
   "metadata": {},
   "outputs": [],
   "source": [
    ""
   ]
  },
  {
   "cell_type": "code",
   "execution_count": 62,
   "metadata": {},
   "outputs": [],
   "source": [
    ""
   ]
  },
  {
   "cell_type": "code",
   "execution_count": 62,
   "metadata": {},
   "outputs": [],
   "source": [
    ""
   ]
  },
  {
   "cell_type": "code",
   "execution_count": 62,
   "metadata": {},
   "outputs": [],
   "source": []
  },
  {
   "cell_type": "code",
   "execution_count": 62,
   "metadata": {},
   "outputs": [],
   "source": []
  },
  {
   "cell_type": "code",
   "execution_count": 62,
   "metadata": {},
   "outputs": [],
   "source": []
  },
  {
   "cell_type": "code",
   "execution_count": 62,
   "metadata": {},
   "outputs": [],
   "source": []
  },
  {
   "cell_type": "code",
   "execution_count": null,
   "metadata": {},
   "outputs": [],
   "source": []
  }
 ],
 "metadata": {
  "kernelspec": {
   "display_name": "RLAgents",
   "language": "python",
   "name": "rlagents"
  },
  "language_info": {
   "codemirror_mode": {
    "name": "ipython",
    "version": 3
   },
   "file_extension": ".py",
   "mimetype": "text/x-python",
   "name": "python",
   "nbconvert_exporter": "python",
   "pygments_lexer": "ipython3",
   "version": "3.6.8"
  }
 },
 "nbformat": 4,
 "nbformat_minor": 2
}
