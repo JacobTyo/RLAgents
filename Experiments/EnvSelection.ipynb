{
 "cells": [
  {
   "cell_type": "code",
   "execution_count": 4,
   "metadata": {
    "collapsed": true
   },
   "outputs": [],
   "source": [
    "import gym\n",
    "from gym import spaces  # not sure why it wants this all of the sudden?\n",
    "import numpy as np\n",
    "import atari_py as ap\n",
    "\n",
    "import json\n",
    "from tqdm import tqdm"
   ]
  },
  {
   "cell_type": "code",
   "execution_count": 5,
   "metadata": {
    "collapsed": true
   },
   "outputs": [
    {
     "name": "stderr",
     "output_type": "stream",
     "text": [
      "\r  0%|          | 0/797 [00:00<?, ?it/s]"
     ]
    },
    {
     "name": "stderr",
     "output_type": "stream",
     "text": [
      "/home/jtyo/Apps/anaconda3/envs/RLAgents/lib/python3.6/site-packages/gym/envs/registration.py:14: PkgResourcesDeprecationWarning: Parameters to load are deprecated.  Call .resolve and .require separately.\n  result = entry_point.load(False)\n"
     ]
    },
    {
     "name": "stderr",
     "output_type": "stream",
     "text": [
      "\r 11%|█         | 87/797 [00:00<00:01, 401.26it/s]"
     ]
    },
    {
     "name": "stderr",
     "output_type": "stream",
     "text": [
      "\r 13%|█▎        | 100/797 [00:01<00:15, 45.49it/s]"
     ]
    },
    {
     "name": "stderr",
     "output_type": "stream",
     "text": [
      "\r 14%|█▎        | 109/797 [00:01<00:24, 27.57it/s]"
     ]
    },
    {
     "name": "stderr",
     "output_type": "stream",
     "text": [
      "\r 15%|█▍        | 116/797 [00:02<00:28, 24.30it/s]"
     ]
    },
    {
     "name": "stderr",
     "output_type": "stream",
     "text": [
      "\r 15%|█▌        | 122/797 [00:02<00:31, 21.36it/s]"
     ]
    },
    {
     "name": "stderr",
     "output_type": "stream",
     "text": [
      "\r 16%|█▌        | 127/797 [00:02<00:36, 18.22it/s]"
     ]
    },
    {
     "name": "stderr",
     "output_type": "stream",
     "text": [
      "\r 16%|█▋        | 131/797 [00:03<00:37, 17.59it/s]"
     ]
    },
    {
     "name": "stderr",
     "output_type": "stream",
     "text": [
      "\r 17%|█▋        | 134/797 [00:03<00:34, 19.13it/s]"
     ]
    },
    {
     "name": "stderr",
     "output_type": "stream",
     "text": [
      "\r 17%|█▋        | 137/797 [00:03<00:40, 16.40it/s]"
     ]
    },
    {
     "name": "stderr",
     "output_type": "stream",
     "text": [
      "\r 18%|█▊        | 140/797 [00:03<00:36, 18.10it/s]"
     ]
    },
    {
     "name": "stderr",
     "output_type": "stream",
     "text": [
      "\r 18%|█▊        | 143/797 [00:03<00:41, 15.89it/s]"
     ]
    },
    {
     "name": "stderr",
     "output_type": "stream",
     "text": [
      "\r 18%|█▊        | 145/797 [00:03<00:40, 15.95it/s]"
     ]
    },
    {
     "name": "stderr",
     "output_type": "stream",
     "text": [
      "\r 18%|█▊        | 147/797 [00:04<00:40, 16.03it/s]"
     ]
    },
    {
     "name": "stderr",
     "output_type": "stream",
     "text": [
      "\r 19%|█▊        | 149/797 [00:04<00:40, 16.08it/s]"
     ]
    },
    {
     "name": "stderr",
     "output_type": "stream",
     "text": [
      "\r 19%|█▉        | 151/797 [00:04<00:40, 16.03it/s]"
     ]
    },
    {
     "name": "stderr",
     "output_type": "stream",
     "text": [
      "\r 19%|█▉        | 153/797 [00:04<00:40, 16.10it/s]"
     ]
    },
    {
     "name": "stderr",
     "output_type": "stream",
     "text": [
      "\r 19%|█▉        | 155/797 [00:04<00:40, 15.82it/s]"
     ]
    },
    {
     "name": "stderr",
     "output_type": "stream",
     "text": [
      "\r 20%|█▉        | 157/797 [00:04<00:40, 15.94it/s]"
     ]
    },
    {
     "name": "stderr",
     "output_type": "stream",
     "text": [
      "\r 24%|██▍       | 195/797 [00:04<00:27, 22.29it/s]"
     ]
    },
    {
     "name": "stderr",
     "output_type": "stream",
     "text": [
      "\r 26%|██▌       | 206/797 [00:05<00:28, 20.94it/s]"
     ]
    },
    {
     "name": "stderr",
     "output_type": "stream",
     "text": [
      "\r 27%|██▋       | 215/797 [00:06<00:31, 18.52it/s]"
     ]
    },
    {
     "name": "stderr",
     "output_type": "stream",
     "text": [
      "\r 28%|██▊       | 222/797 [00:06<00:31, 18.50it/s]"
     ]
    },
    {
     "name": "stderr",
     "output_type": "stream",
     "text": [
      "\r 28%|██▊       | 227/797 [00:06<00:35, 16.26it/s]"
     ]
    },
    {
     "name": "stderr",
     "output_type": "stream",
     "text": [
      "\r 29%|██▉       | 231/797 [00:07<00:35, 16.12it/s]"
     ]
    },
    {
     "name": "stderr",
     "output_type": "stream",
     "text": [
      "\r 29%|██▉       | 235/797 [00:07<00:35, 16.05it/s]"
     ]
    },
    {
     "name": "stderr",
     "output_type": "stream",
     "text": [
      "\r 30%|██▉       | 238/797 [00:07<00:31, 17.58it/s]"
     ]
    },
    {
     "name": "stderr",
     "output_type": "stream",
     "text": [
      "\r 30%|███       | 241/797 [00:07<00:36, 15.16it/s]"
     ]
    },
    {
     "name": "stderr",
     "output_type": "stream",
     "text": [
      "\r 31%|███       | 244/797 [00:07<00:32, 17.11it/s]"
     ]
    },
    {
     "name": "stderr",
     "output_type": "stream",
     "text": [
      "\r 31%|███       | 247/797 [00:08<00:36, 15.01it/s]"
     ]
    },
    {
     "name": "stderr",
     "output_type": "stream",
     "text": [
      "\r 31%|███       | 249/797 [00:08<00:35, 15.34it/s]"
     ]
    },
    {
     "name": "stderr",
     "output_type": "stream",
     "text": [
      "\r 31%|███▏      | 251/797 [00:08<00:35, 15.51it/s]"
     ]
    },
    {
     "name": "stderr",
     "output_type": "stream",
     "text": [
      "\r 32%|███▏      | 253/797 [00:08<00:34, 15.85it/s]"
     ]
    },
    {
     "name": "stderr",
     "output_type": "stream",
     "text": [
      "\r 32%|███▏      | 255/797 [00:08<00:33, 15.98it/s]"
     ]
    },
    {
     "name": "stderr",
     "output_type": "stream",
     "text": [
      "\r 32%|███▏      | 257/797 [00:08<00:33, 16.06it/s]"
     ]
    },
    {
     "name": "stderr",
     "output_type": "stream",
     "text": [
      "\r 32%|███▏      | 259/797 [00:08<00:33, 16.06it/s]"
     ]
    },
    {
     "name": "stderr",
     "output_type": "stream",
     "text": [
      "\r 33%|███▎      | 261/797 [00:08<00:33, 16.07it/s]"
     ]
    },
    {
     "name": "stderr",
     "output_type": "stream",
     "text": [
      "\r 33%|███▎      | 263/797 [00:09<00:33, 16.17it/s]"
     ]
    },
    {
     "name": "stderr",
     "output_type": "stream",
     "text": [
      "\r 33%|███▎      | 265/797 [00:09<00:32, 16.16it/s]"
     ]
    },
    {
     "name": "stderr",
     "output_type": "stream",
     "text": [
      "\r 41%|████      | 327/797 [00:09<00:20, 22.76it/s]"
     ]
    },
    {
     "name": "stderr",
     "output_type": "stream",
     "text": [
      "\r 43%|████▎     | 343/797 [00:09<00:19, 23.30it/s]"
     ]
    },
    {
     "name": "stderr",
     "output_type": "stream",
     "text": [
      "\r 45%|████▍     | 355/797 [00:10<00:17, 25.03it/s]"
     ]
    },
    {
     "name": "stderr",
     "output_type": "stream",
     "text": [
      "\r 46%|████▌     | 365/797 [00:11<00:20, 20.90it/s]"
     ]
    },
    {
     "name": "stderr",
     "output_type": "stream",
     "text": [
      "\r 47%|████▋     | 372/797 [00:11<00:21, 20.17it/s]"
     ]
    },
    {
     "name": "stderr",
     "output_type": "stream",
     "text": [
      "\r 47%|████▋     | 378/797 [00:11<00:22, 18.85it/s]"
     ]
    },
    {
     "name": "stderr",
     "output_type": "stream",
     "text": [
      "\r 48%|████▊     | 383/797 [00:12<00:24, 17.00it/s]"
     ]
    },
    {
     "name": "stderr",
     "output_type": "stream",
     "text": [
      "\r 49%|████▊     | 387/797 [00:12<00:24, 16.95it/s]"
     ]
    },
    {
     "name": "stderr",
     "output_type": "stream",
     "text": [
      "\r 49%|████▉     | 390/797 [00:12<00:21, 18.70it/s]"
     ]
    },
    {
     "name": "stderr",
     "output_type": "stream",
     "text": [
      "\r 49%|████▉     | 393/797 [00:12<00:25, 16.15it/s]"
     ]
    },
    {
     "name": "stderr",
     "output_type": "stream",
     "text": [
      "\r 50%|████▉     | 396/797 [00:12<00:22, 17.98it/s]"
     ]
    },
    {
     "name": "stderr",
     "output_type": "stream",
     "text": [
      "\r 50%|█████     | 399/797 [00:13<00:25, 15.79it/s]"
     ]
    },
    {
     "name": "stderr",
     "output_type": "stream",
     "text": [
      "\r 50%|█████     | 402/797 [00:13<00:22, 17.56it/s]"
     ]
    },
    {
     "name": "stderr",
     "output_type": "stream",
     "text": [
      "\r 51%|█████     | 405/797 [00:13<00:25, 15.33it/s]"
     ]
    },
    {
     "name": "stderr",
     "output_type": "stream",
     "text": [
      "\r 51%|█████     | 407/797 [00:13<00:25, 15.51it/s]"
     ]
    },
    {
     "name": "stderr",
     "output_type": "stream",
     "text": [
      "\r 51%|█████▏    | 409/797 [00:13<00:24, 15.55it/s]"
     ]
    },
    {
     "name": "stderr",
     "output_type": "stream",
     "text": [
      "\r 53%|█████▎    | 423/797 [00:13<00:17, 21.03it/s]"
     ]
    },
    {
     "name": "stderr",
     "output_type": "stream",
     "text": [
      "\r 54%|█████▎    | 428/797 [00:14<00:17, 21.11it/s]"
     ]
    },
    {
     "name": "stderr",
     "output_type": "stream",
     "text": [
      "\r 54%|█████▍    | 432/797 [00:14<00:18, 19.60it/s]"
     ]
    },
    {
     "name": "stderr",
     "output_type": "stream",
     "text": [
      "\r 55%|█████▍    | 436/797 [00:14<00:16, 22.48it/s]"
     ]
    },
    {
     "name": "stderr",
     "output_type": "stream",
     "text": [
      "\r 56%|█████▌    | 447/797 [00:14<00:12, 29.07it/s]"
     ]
    },
    {
     "name": "stderr",
     "output_type": "stream",
     "text": [
      "\r 57%|█████▋    | 453/797 [00:14<00:14, 23.84it/s]"
     ]
    },
    {
     "name": "stderr",
     "output_type": "stream",
     "text": [
      "\r 57%|█████▋    | 458/797 [00:15<00:14, 22.80it/s]"
     ]
    },
    {
     "name": "stderr",
     "output_type": "stream",
     "text": [
      "\r 58%|█████▊    | 462/797 [00:15<00:16, 20.64it/s]"
     ]
    },
    {
     "name": "stderr",
     "output_type": "stream",
     "text": [
      "\r 58%|█████▊    | 465/797 [00:15<00:19, 17.20it/s]"
     ]
    },
    {
     "name": "stderr",
     "output_type": "stream",
     "text": [
      "\r 59%|█████▊    | 468/797 [00:15<00:17, 18.89it/s]"
     ]
    },
    {
     "name": "stderr",
     "output_type": "stream",
     "text": [
      "\r 59%|█████▉    | 471/797 [00:15<00:16, 20.34it/s]"
     ]
    },
    {
     "name": "stderr",
     "output_type": "stream",
     "text": [
      "\r 65%|██████▌   | 519/797 [00:15<00:09, 28.42it/s]"
     ]
    },
    {
     "name": "stderr",
     "output_type": "stream",
     "text": [
      "\r 67%|██████▋   | 533/797 [00:16<00:11, 23.16it/s]"
     ]
    },
    {
     "name": "stderr",
     "output_type": "stream",
     "text": [
      "\r 68%|██████▊   | 543/797 [00:17<00:12, 20.45it/s]"
     ]
    },
    {
     "name": "stderr",
     "output_type": "stream",
     "text": [
      "\r 69%|██████▉   | 551/797 [00:17<00:13, 18.85it/s]"
     ]
    },
    {
     "name": "stderr",
     "output_type": "stream",
     "text": [
      "\r 70%|██████▉   | 557/797 [00:18<00:13, 18.06it/s]"
     ]
    },
    {
     "name": "stderr",
     "output_type": "stream",
     "text": [
      "\r 71%|███████   | 562/797 [00:18<00:12, 18.71it/s]"
     ]
    },
    {
     "name": "stderr",
     "output_type": "stream",
     "text": [
      "\r 71%|███████   | 566/797 [00:18<00:12, 17.93it/s]"
     ]
    },
    {
     "name": "stderr",
     "output_type": "stream",
     "text": [
      "\r 73%|███████▎  | 579/797 [00:18<00:09, 23.87it/s]"
     ]
    },
    {
     "name": "stderr",
     "output_type": "stream",
     "text": [
      "\r 73%|███████▎  | 585/797 [00:19<00:10, 20.86it/s]"
     ]
    },
    {
     "name": "stderr",
     "output_type": "stream",
     "text": [
      "\r 74%|███████▍  | 590/797 [00:19<00:10, 20.56it/s]"
     ]
    },
    {
     "name": "stderr",
     "output_type": "stream",
     "text": [
      "\r 75%|███████▍  | 594/797 [00:19<00:10, 18.98it/s]"
     ]
    },
    {
     "name": "stderr",
     "output_type": "stream",
     "text": [
      "\r 75%|███████▍  | 597/797 [00:20<00:12, 16.12it/s]"
     ]
    },
    {
     "name": "stderr",
     "output_type": "stream",
     "text": [
      "\r 75%|███████▌  | 600/797 [00:20<00:11, 17.86it/s]"
     ]
    },
    {
     "name": "stderr",
     "output_type": "stream",
     "text": [
      "\r 76%|███████▌  | 603/797 [00:20<00:09, 19.42it/s]"
     ]
    },
    {
     "name": "stderr",
     "output_type": "stream",
     "text": [
      "\r 77%|███████▋  | 615/797 [00:20<00:07, 25.49it/s]"
     ]
    },
    {
     "name": "stderr",
     "output_type": "stream",
     "text": [
      "\r 78%|███████▊  | 620/797 [00:20<00:07, 22.89it/s]"
     ]
    },
    {
     "name": "stderr",
     "output_type": "stream",
     "text": [
      "\r 78%|███████▊  | 624/797 [00:20<00:08, 19.99it/s]"
     ]
    },
    {
     "name": "stderr",
     "output_type": "stream",
     "text": [
      "\r 79%|███████▉  | 628/797 [00:21<00:09, 18.50it/s]"
     ]
    },
    {
     "name": "stderr",
     "output_type": "stream",
     "text": [
      "\r 79%|███████▉  | 631/797 [00:21<00:10, 16.02it/s]"
     ]
    },
    {
     "name": "stderr",
     "output_type": "stream",
     "text": [
      "\r 80%|███████▉  | 634/797 [00:21<00:09, 17.73it/s]"
     ]
    },
    {
     "name": "stderr",
     "output_type": "stream",
     "text": [
      "\r 80%|███████▉  | 637/797 [00:21<00:10, 15.69it/s]"
     ]
    },
    {
     "name": "stderr",
     "output_type": "stream",
     "text": [
      "\r 80%|████████  | 639/797 [00:21<00:09, 15.90it/s]"
     ]
    },
    {
     "name": "stderr",
     "output_type": "stream",
     "text": [
      "\r 80%|████████  | 641/797 [00:22<00:10, 15.36it/s]"
     ]
    },
    {
     "name": "stderr",
     "output_type": "stream",
     "text": [
      "\r 81%|████████  | 643/797 [00:22<00:09, 15.58it/s]"
     ]
    },
    {
     "name": "stderr",
     "output_type": "stream",
     "text": [
      "\r 81%|████████  | 645/797 [00:22<00:09, 15.83it/s]"
     ]
    },
    {
     "name": "stderr",
     "output_type": "stream",
     "text": [
      "\r 81%|████████  | 647/797 [00:22<00:09, 16.04it/s]"
     ]
    },
    {
     "name": "stderr",
     "output_type": "stream",
     "text": [
      "\r 81%|████████▏ | 649/797 [00:22<00:09, 16.06it/s]"
     ]
    },
    {
     "name": "stderr",
     "output_type": "stream",
     "text": [
      "\r 82%|████████▏ | 651/797 [00:22<00:09, 15.90it/s]"
     ]
    },
    {
     "name": "stderr",
     "output_type": "stream",
     "text": [
      "\r 82%|████████▏ | 653/797 [00:22<00:09, 15.81it/s]"
     ]
    },
    {
     "name": "stderr",
     "output_type": "stream",
     "text": [
      "\r 82%|████████▏ | 655/797 [00:22<00:08, 15.79it/s]"
     ]
    },
    {
     "name": "stderr",
     "output_type": "stream",
     "text": [
      "\r 82%|████████▏ | 657/797 [00:23<00:08, 15.72it/s]"
     ]
    },
    {
     "name": "stderr",
     "output_type": "stream",
     "text": [
      "\r 83%|████████▎ | 659/797 [00:23<00:08, 15.69it/s]"
     ]
    },
    {
     "name": "stderr",
     "output_type": "stream",
     "text": [
      "\r 83%|████████▎ | 661/797 [00:23<00:08, 15.77it/s]"
     ]
    },
    {
     "name": "stderr",
     "output_type": "stream",
     "text": [
      "\r 86%|████████▌ | 687/797 [00:23<00:05, 21.80it/s]"
     ]
    },
    {
     "name": "stderr",
     "output_type": "stream",
     "text": [
      "\r 87%|████████▋ | 695/797 [00:23<00:05, 19.71it/s]"
     ]
    },
    {
     "name": "stderr",
     "output_type": "stream",
     "text": [
      "\r 88%|████████▊ | 701/797 [00:24<00:04, 23.99it/s]"
     ]
    },
    {
     "name": "stderr",
     "output_type": "stream",
     "text": [
      "\r 89%|████████▉ | 711/797 [00:24<00:02, 30.46it/s]"
     ]
    },
    {
     "name": "stderr",
     "output_type": "stream",
     "text": [
      "\r 90%|█████████ | 718/797 [00:24<00:03, 25.70it/s]"
     ]
    },
    {
     "name": "stderr",
     "output_type": "stream",
     "text": [
      "\r 91%|█████████ | 723/797 [00:24<00:03, 23.90it/s]"
     ]
    },
    {
     "name": "stderr",
     "output_type": "stream",
     "text": [
      "\r 92%|█████████▏| 735/797 [00:24<00:02, 30.88it/s]"
     ]
    },
    {
     "name": "stderr",
     "output_type": "stream",
     "text": [
      "\r 93%|█████████▎| 741/797 [00:25<00:02, 24.21it/s]"
     ]
    },
    {
     "name": "stderr",
     "output_type": "stream",
     "text": [
      "\r 94%|█████████▎| 746/797 [00:25<00:02, 22.79it/s]"
     ]
    },
    {
     "name": "stderr",
     "output_type": "stream",
     "text": [
      "\r 98%|█████████▊| 783/797 [00:25<00:00, 31.55it/s]"
     ]
    },
    {
     "name": "stderr",
     "output_type": "stream",
     "text": [
      "\r100%|█████████▉| 795/797 [00:26<00:00, 26.65it/s]"
     ]
    },
    {
     "name": "stderr",
     "output_type": "stream",
     "text": [
      "\r100%|██████████| 797/797 [00:26<00:00, 30.26it/s]"
     ]
    },
    {
     "name": "stdout",
     "output_type": "stream",
     "text": [
      "{'space1_size': [210, 160, 3], 'space2_size': [250, 160, 3], 'space1_num': 78, 'space2_num': 27, 'space1_list': ['Alien-v4', 'AlienDeterministic-v4', 'AlienNoFrameskip-v4', 'Asterix-v4', 'AsterixDeterministic-v4', 'AsterixNoFrameskip-v4', 'Asteroids-v4', 'AsteroidsDeterministic-v4', 'AsteroidsNoFrameskip-v4', 'Atlantis-v4', 'AtlantisDeterministic-v4', 'AtlantisNoFrameskip-v4', 'Berzerk-v4', 'BerzerkDeterministic-v4', 'BerzerkNoFrameskip-v4', 'Bowling-v4', 'BowlingDeterministic-v4', 'BowlingNoFrameskip-v4', 'Boxing-v4', 'BoxingDeterministic-v4', 'BoxingNoFrameskip-v4', 'Breakout-v4', 'BreakoutDeterministic-v4', 'BreakoutNoFrameskip-v4', 'Enduro-v4', 'EnduroDeterministic-v4', 'EnduroNoFrameskip-v4', 'Freeway-v4', 'FreewayDeterministic-v4', 'FreewayNoFrameskip-v4', 'Frostbite-v4', 'FrostbiteDeterministic-v4', 'FrostbiteNoFrameskip-v4', 'Gravitar-v4', 'GravitarDeterministic-v4', 'GravitarNoFrameskip-v4', 'Hero-v4', 'HeroDeterministic-v4', 'HeroNoFrameskip-v4', 'Jamesbond-v4', 'JamesbondDeterministic-v4', 'JamesbondNoFrameskip-v4', 'Kangaroo-v4', 'KangarooDeterministic-v4', 'KangarooNoFrameskip-v4', 'Krull-v4', 'KrullDeterministic-v4', 'KrullNoFrameskip-v4', 'Phoenix-v4', 'PhoenixDeterministic-v4', 'PhoenixNoFrameskip-v4', 'Pitfall-v4', 'PitfallDeterministic-v4', 'PitfallNoFrameskip-v4', 'Pong-v4', 'PongDeterministic-v4', 'PongNoFrameskip-v4', 'Qbert-v4', 'QbertDeterministic-v4', 'QbertNoFrameskip-v4', 'Riverraid-v4', 'RiverraidDeterministic-v4', 'RiverraidNoFrameskip-v4', 'Robotank-v4', 'RobotankDeterministic-v4', 'RobotankNoFrameskip-v4', 'Seaquest-v4', 'SeaquestDeterministic-v4', 'SeaquestNoFrameskip-v4', 'Solaris-v4', 'SolarisDeterministic-v4', 'SolarisNoFrameskip-v4', 'Venture-v4', 'VentureDeterministic-v4', 'VentureNoFrameskip-v4', 'Zaxxon-v4', 'ZaxxonDeterministic-v4', 'ZaxxonNoFrameskip-v4'], 'space2_list': ['Amidar-v4', 'AmidarDeterministic-v4', 'AmidarNoFrameskip-v4', 'Assault-v4', 'AssaultDeterministic-v4', 'AssaultNoFrameskip-v4', 'Carnival-v4', 'CarnivalDeterministic-v4', 'CarnivalNoFrameskip-v4', 'Centipede-v4', 'CentipedeDeterministic-v4', 'CentipedeNoFrameskip-v4', 'Gopher-v4', 'GopherDeterministic-v4', 'GopherNoFrameskip-v4', 'Pooyan-v4', 'PooyanDeterministic-v4', 'PooyanNoFrameskip-v4', 'Skiing-v4', 'SkiingDeterministic-v4', 'SkiingNoFrameskip-v4', 'Tennis-v4', 'TennisDeterministic-v4', 'TennisNoFrameskip-v4', 'Tutankham-v4', 'TutankhamDeterministic-v4', 'TutankhamNoFrameskip-v4'], 'final_envs': ['Alien-v4', 'AlienDeterministic-v4', 'AlienNoFrameskip-v4', 'Berzerk-v4', 'BerzerkDeterministic-v4', 'BerzerkNoFrameskip-v4', 'Boxing-v4', 'BoxingDeterministic-v4', 'BoxingNoFrameskip-v4', 'Frostbite-v4', 'FrostbiteDeterministic-v4', 'FrostbiteNoFrameskip-v4', 'Gravitar-v4', 'GravitarDeterministic-v4', 'GravitarNoFrameskip-v4', 'Hero-v4', 'HeroDeterministic-v4', 'HeroNoFrameskip-v4', 'Jamesbond-v4', 'JamesbondDeterministic-v4', 'JamesbondNoFrameskip-v4', 'Kangaroo-v4', 'KangarooDeterministic-v4', 'KangarooNoFrameskip-v4', 'Krull-v4', 'KrullDeterministic-v4', 'KrullNoFrameskip-v4', 'Pitfall-v4', 'PitfallDeterministic-v4', 'PitfallNoFrameskip-v4', 'Riverraid-v4', 'RiverraidDeterministic-v4', 'RiverraidNoFrameskip-v4', 'Robotank-v4', 'RobotankDeterministic-v4', 'RobotankNoFrameskip-v4', 'Seaquest-v4', 'SeaquestDeterministic-v4', 'SeaquestNoFrameskip-v4', 'Solaris-v4', 'SolarisDeterministic-v4', 'SolarisNoFrameskip-v4', 'Venture-v4', 'VentureDeterministic-v4', 'VentureNoFrameskip-v4', 'Zaxxon-v4', 'ZaxxonDeterministic-v4', 'ZaxxonNoFrameskip-v4']}\n\n\n\n{'Discrete(18)': 48, 'Discrete(9)': 6, 'Discrete(14)': 3, 'Discrete(4)': 6, 'Discrete(6)': 9, 'Discrete(3)': 3, 'Discrete(8)': 3}\n{'Discrete(10)': 3, 'Discrete(7)': 3, 'Discrete(6)': 6, 'Discrete(18)': 6, 'Discrete(8)': 6, 'Discrete(3)': 3}\n['Alien-v4', 'AlienDeterministic-v4', 'AlienNoFrameskip-v4', 'Berzerk-v4', 'BerzerkDeterministic-v4', 'BerzerkNoFrameskip-v4', 'Boxing-v4', 'BoxingDeterministic-v4', 'BoxingNoFrameskip-v4', 'Frostbite-v4', 'FrostbiteDeterministic-v4', 'FrostbiteNoFrameskip-v4', 'Gravitar-v4', 'GravitarDeterministic-v4', 'GravitarNoFrameskip-v4', 'Hero-v4', 'HeroDeterministic-v4', 'HeroNoFrameskip-v4', 'Jamesbond-v4', 'JamesbondDeterministic-v4', 'JamesbondNoFrameskip-v4', 'Kangaroo-v4', 'KangarooDeterministic-v4', 'KangarooNoFrameskip-v4', 'Krull-v4', 'KrullDeterministic-v4', 'KrullNoFrameskip-v4', 'Pitfall-v4', 'PitfallDeterministic-v4', 'PitfallNoFrameskip-v4', 'Riverraid-v4', 'RiverraidDeterministic-v4', 'RiverraidNoFrameskip-v4', 'Robotank-v4', 'RobotankDeterministic-v4', 'RobotankNoFrameskip-v4', 'Seaquest-v4', 'SeaquestDeterministic-v4', 'SeaquestNoFrameskip-v4', 'Solaris-v4', 'SolarisDeterministic-v4', 'SolarisNoFrameskip-v4', 'Venture-v4', 'VentureDeterministic-v4', 'VentureNoFrameskip-v4', 'Zaxxon-v4', 'ZaxxonDeterministic-v4', 'ZaxxonNoFrameskip-v4']\n"
     ]
    },
    {
     "name": "stderr",
     "output_type": "stream",
     "text": [
      "\n"
     ]
    }
   ],
   "source": [
    "space1 = np.asarray([210, 160, 3])\n",
    "space2 = np.asarray([250, 160, 3])\n",
    "\n",
    "space_info = {\n",
    "    'space1_size': [210, 160, 3],\n",
    "    'space2_size': [250, 160, 3],\n",
    "    'space1_num': 0,\n",
    "    'space2_num': 0,\n",
    "    'space1_list': [],\n",
    "    'space2_list': []\n",
    "}\n",
    "\n",
    "action_map = {\n",
    "    'Discrete(1)': gym.spaces.discrete.Discrete(1),\n",
    "    'Discrete(2)': gym.spaces.discrete.Discrete(2),\n",
    "    'Discrete(3)': gym.spaces.discrete.Discrete(3),\n",
    "    'Discrete(4)': gym.spaces.discrete.Discrete(4),\n",
    "    'Discrete(5)': gym.spaces.discrete.Discrete(5),\n",
    "    'Discrete(6)': gym.spaces.discrete.Discrete(6),\n",
    "    'Discrete(7)': gym.spaces.discrete.Discrete(7),\n",
    "    'Discrete(8)': gym.spaces.discrete.Discrete(8),\n",
    "    'Discrete(9)': gym.spaces.discrete.Discrete(9),\n",
    "    'Discrete(10)': gym.spaces.discrete.Discrete(10),\n",
    "    'Discrete(11)': gym.spaces.discrete.Discrete(11),\n",
    "    'Discrete(12)': gym.spaces.discrete.Discrete(12),\n",
    "    'Discrete(13)': gym.spaces.discrete.Discrete(13),\n",
    "    'Discrete(14)': gym.spaces.discrete.Discrete(14),\n",
    "    'Discrete(15)': gym.spaces.discrete.Discrete(15),\n",
    "    'Discrete(16)': gym.spaces.discrete.Discrete(16),\n",
    "    'Discrete(17)': gym.spaces.discrete.Discrete(17),\n",
    "    'Discrete(18)': gym.spaces.discrete.Discrete(18),\n",
    "    'Discrete(19)': gym.spaces.discrete.Discrete(19),\n",
    "    'Discrete(20)': gym.spaces.discrete.Discrete(20)\n",
    "}\n",
    "\n",
    "space1_num = 0\n",
    "space2_num = 0\n",
    "\n",
    "space1_list = []\n",
    "space2_list = []\n",
    "\n",
    "action_spaces1 = {}\n",
    "action_spaces2 = {}\n",
    "\n",
    "final_envs = []\n",
    "\n",
    "atari_game_list = ap.list_games()\n",
    "\n",
    "for env in tqdm(gym.envs.registry.all()):\n",
    "    if any(substring in env.id.lower() for substring in atari_game_list):\n",
    "        # only get the new version\n",
    "        if '-v0' in env.id.lower():\n",
    "            continue\n",
    "        # make the gym\n",
    "        try:\n",
    "            tmp = gym.make(env.id)\n",
    "        except:\n",
    "            print(f'gym {env.id} failed')\n",
    "            continue\n",
    "        # compare the gym to the env space of interest\n",
    "        if tuple(space1) == tmp.observation_space.shape:\n",
    "            space1_num += 1\n",
    "            space1_list.append(env.id)\n",
    "            # now make dict for action spaces\n",
    "            k = \"\"\n",
    "            for ke, va in action_map.items():\n",
    "                if va == tmp.action_space:\n",
    "                    k = ke\n",
    "                    \n",
    "            if k not in action_spaces1.keys():\n",
    "                action_spaces1[k] = 1\n",
    "            else:\n",
    "                action_spaces1[k] += 1\n",
    "                \n",
    "            if k == 'Discrete(18)':\n",
    "                final_envs.append(env.id)\n",
    "                \n",
    "        elif tuple(space2) == tmp.observation_space.shape:\n",
    "            space2_num += 1\n",
    "            space2_list.append(env.id)\n",
    "            # check action space\n",
    "            k = \"\"\n",
    "            for ke, va in action_map.items():\n",
    "                if va == tmp.action_space:\n",
    "                    k = ke\n",
    "            if k not in action_spaces2.keys():\n",
    "                action_spaces2[k] = 1\n",
    "            else:\n",
    "                action_spaces2[k] += 1\n",
    "\n",
    "space_info['space1_num'] = space1_num\n",
    "space_info['space2_num'] = space2_num\n",
    "space_info['space1_list'] = space1_list\n",
    "space_info['space2_list'] = space2_list\n",
    "space_info['final_envs'] = final_envs\n",
    "\n",
    "print(space_info)\n",
    "print('\\n\\n')\n",
    "print(action_spaces1)\n",
    "print(action_spaces2)\n",
    "\n",
    "# the final envs list\n",
    "print(final_envs)\n",
    "\n",
    "with open('selected_env_info.json', 'w') as f:\n",
    "    json.dump(space_info, f, indent=4, separators=(',', ': '))\n"
   ]
  },
  {
   "cell_type": "code",
   "execution_count": 6,
   "metadata": {
    "collapsed": false
   },
   "outputs": [
    {
     "name": "stdout",
     "output_type": "stream",
     "text": [
      "The training set: \n['Alien-v4', 'AlienDeterministic-v4', 'AlienNoFrameskip-v4', 'Berzerk-v4', 'BerzerkDeterministic-v4', 'BerzerkNoFrameskip-v4', 'Boxing-v4', 'BoxingDeterministic-v4', 'BoxingNoFrameskip-v4', 'Frostbite-v4', 'FrostbiteDeterministic-v4', 'FrostbiteNoFrameskip-v4', 'Gravitar-v4', 'GravitarDeterministic-v4', 'GravitarNoFrameskip-v4', 'Hero-v4', 'HeroDeterministic-v4', 'HeroNoFrameskip-v4', 'Jamesbond-v4', 'JamesbondDeterministic-v4', 'JamesbondNoFrameskip-v4', 'Kangaroo-v4', 'KangarooDeterministic-v4', 'KangarooNoFrameskip-v4', 'Krull-v4', 'KrullDeterministic-v4', 'KrullNoFrameskip-v4', 'Pitfall-v4', 'PitfallDeterministic-v4', 'PitfallNoFrameskip-v4', 'Riverraid-v4', 'RiverraidDeterministic-v4', 'RiverraidNoFrameskip-v4', 'Robotank-v4', 'RobotankDeterministic-v4', 'RobotankNoFrameskip-v4', 'Seaquest-v4', 'SeaquestDeterministic-v4', 'SeaquestNoFrameskip-v4']\n\nThe testing set: \n['Solaris-v4', 'SolarisDeterministic-v4', 'SolarisNoFrameskip-v4', 'Venture-v4', 'VentureDeterministic-v4', 'VentureNoFrameskip-v4', 'Zaxxon-v4', 'ZaxxonDeterministic-v4', 'ZaxxonNoFrameskip-v4']\n"
     ]
    }
   ],
   "source": [
    "# lastly, split the final environment into a training and a testing split\n",
    "print(\"The training set: \")\n",
    "print(final_envs[:-9])\n",
    "print(\"\\nThe testing set: \")\n",
    "print(final_envs[-9:])\n",
    "\n",
    "\n",
    "final_env_split = {\n",
    "    'training': final_envs[-9:],\n",
    "    'testing': final_envs[:-9]\n",
    "}\n",
    "\n",
    "with open('selected_envs.json', 'w') as f:\n",
    "    json.dump(final_env_split, f, indent=4, separators=(',', ': '))"
   ]
  },
  {
   "cell_type": "code",
   "execution_count": null,
   "metadata": {},
   "outputs": [],
   "source": [
    ""
   ]
  }
 ],
 "metadata": {
  "kernelspec": {
   "display_name": "Python 2",
   "language": "python",
   "name": "python2"
  },
  "language_info": {
   "codemirror_mode": {
    "name": "ipython",
    "version": 2
   },
   "file_extension": ".py",
   "mimetype": "text/x-python",
   "name": "python",
   "nbconvert_exporter": "python",
   "pygments_lexer": "ipython2",
   "version": "2.7.6"
  }
 },
 "nbformat": 4,
 "nbformat_minor": 0
}
